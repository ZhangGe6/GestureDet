{
 "cells": [
  {
   "cell_type": "code",
   "execution_count": 1,
   "metadata": {},
   "outputs": [],
   "source": [
    "import os\n",
    "import cv2\n",
    "import torch\n",
    "\n",
    "os.environ[\"CUDA_DEVICE_ORDER\"]=\"PCI_BUS_ID\"\n",
    "os.environ[\"CUDA_VISIBLE_DEVICES\"]=\"0\"\n",
    "\n",
    "device = torch.device('cuda')\n",
    "torch.backends.cudnn.enabled = True\n",
    "torch.backends.cudnn.benchmark = True\n",
    "\n",
    "from nanodet.util import overlay_bbox_cv\n",
    "\n",
    "from IPython.display import display\n",
    "from PIL import Image\n",
    "\n",
    "def cv2_imshow(a, convert_bgr_to_rgb=True):\n",
    "    \"\"\"A replacement for cv2.imshow() for use in Jupyter notebooks.\n",
    "    Args:\n",
    "        a: np.ndarray. shape (N, M) or (N, M, 1) is an NxM grayscale image. shape\n",
    "            (N, M, 3) is an NxM BGR color image. shape (N, M, 4) is an NxM BGRA color\n",
    "            image.\n",
    "        convert_bgr_to_rgb: switch to convert BGR to RGB channel.\n",
    "    \"\"\"\n",
    "    a = a.clip(0, 255).astype('uint8')\n",
    "    # cv2 stores colors as BGR; convert to RGB\n",
    "    if convert_bgr_to_rgb and a.ndim == 3:\n",
    "        if a.shape[2] == 4:\n",
    "            a = cv2.cvtColor(a, cv2.COLOR_BGRA2RGBA)\n",
    "        else:\n",
    "            a = cv2.cvtColor(a, cv2.COLOR_BGR2RGB)\n",
    "    display(Image.fromarray(a))"
   ]
  },
  {
   "cell_type": "markdown",
   "metadata": {},
   "source": [
    "## Set Model Configuration and Logger"
   ]
  },
  {
   "cell_type": "code",
   "execution_count": 8,
   "metadata": {},
   "outputs": [
    {
     "name": "stdout",
     "output_type": "stream",
     "text": [
      "model size is  1.0x\n",
      "init weights...\n",
      "=> loading pretrained model https://download.pytorch.org/models/shufflenetv2_x1-5666bf0f80.pth\n",
      "Finish initialize NanoDet Head.\n"
     ]
    }
   ],
   "source": [
    "from nanodet.util import cfg, load_config, Logger\n",
    "\n",
    "# config_path = '../config/nanodet-plus-m_320_hand.yml'\n",
    "# model_path = '../workspace/nanodet-plus-m_320_hand/model_best/model_best.ckpt'\n",
    "\n",
    "# config_path = '../config/nanodet-m_hand.yml'\n",
    "# model_path = '../workspace/nanodet_m_hand/model_best/model_best.ckpt'\n",
    "\n",
    "config_path = '../config/nanodet-m_hand_new.yml'\n",
    "model_path = '../workspace/nanodet_m_hand_new/model_best/model_best.ckpt'\n",
    "\n",
    "# image_path = '/home/zg/wdir/zg/moyu/GestureDet/Datasets/EGOHand/_LABELLED_SAMPLES/CARDS_OFFICE_T_H/frame_0235.jpg'\n",
    "# image_path = '/home/zg/wdir/zg/moyu/GestureDet/Datasets/SelfCollected/frames/WIN_20220219_11_37_40_Pro_3.jpg'\n",
    "# image_path = '/home/zg/wdir/zg/moyu/GestureDet/Datasets/GANerated/data/user03/color/image_00565_color.png'\n",
    "# image_path = '/home/zg/wdir/zg/moyu/GestureDet/Datasets/SelfCollected/frames/WIN_20220219_11_37_44_Pro_45.jpg'\n",
    "image_path = '/home/zg/wdir/zg/moyu/GestureDet/Datasets/SelfCollected/frames/WIN_20220219_11_38_32_Pro_588.jpg'\n",
    "image_path = '/home/zg/wdir/zg/moyu/GestureDet/Datasets/SelfCollected/frames/WIN_20220219_11_38_32_Pro_918.jpg'\n",
    "load_config(cfg, config_path)\n",
    "logger = Logger(-1, use_tensorboard=False)\n",
    "\n",
    "from demo import Predictor\n",
    "predictor = Predictor(cfg, model_path, logger, device=device)\n",
    "meta, res = predictor.inference(image_path)\n",
    "result = overlay_bbox_cv(meta['raw_img'][0], res[0], cfg.class_names, score_thresh=0.35)\n",
    "imshow_scale = 1.0"
   ]
  },
  {
   "cell_type": "code",
   "execution_count": null,
   "metadata": {},
   "outputs": [],
   "source": [
    "imshow_scale = 1.0\n",
    "cv2_imshow(cv2.resize(result, None, fx=imshow_scale, fy=imshow_scale))"
   ]
  },
  {
   "cell_type": "code",
   "execution_count": null,
   "metadata": {},
   "outputs": [],
   "source": []
  }
 ],
 "metadata": {
  "accelerator": "GPU",
  "colab": {
   "collapsed_sections": [],
   "include_colab_link": true,
   "name": "YOLOv5 Tutorial",
   "provenance": [],
   "toc_visible": true
  },
  "kernelspec": {
   "display_name": "Python 3",
   "language": "python",
   "name": "python3"
  },
  "language_info": {
   "codemirror_mode": {
    "name": "ipython",
    "version": 3
   },
   "file_extension": ".py",
   "mimetype": "text/x-python",
   "name": "python",
   "nbconvert_exporter": "python",
   "pygments_lexer": "ipython3",
   "version": "3.8.12"
  }
 },
 "nbformat": 4,
 "nbformat_minor": 4
}
